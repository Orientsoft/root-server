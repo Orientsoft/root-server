{
 "cells": [
  {
   "cell_type": "code",
   "execution_count": 1,
   "metadata": {},
   "outputs": [],
   "source": [
    "import torch\n",
    "import torchvision\n",
    "\n",
    "from resnet import resnet as score_model\n",
    "from retinanet import model as detection_model"
   ]
  },
  {
   "cell_type": "code",
   "execution_count": 2,
   "metadata": {},
   "outputs": [],
   "source": [
    "BATCH_SIZE = 1\n",
    "\n",
    "SCORE_MODEL_PATH = './data/score_state_dict.pth'\n",
    "DET_MODEL_PATH = './data/detection_state_dict.pth'\n",
    "\n",
    "OPSET_VERSION = 11 # 2020.08 - 10 for openvino, 11 for trt"
   ]
  },
  {
   "cell_type": "markdown",
   "metadata": {},
   "source": [
    "## score net"
   ]
  },
  {
   "cell_type": "code",
   "execution_count": null,
   "metadata": {},
   "outputs": [],
   "source": [
    "# score net\n",
    "\n",
    "IMAGE_SIZE = 224\n",
    "\n",
    "dummy_input = torch.randn(BATCH_SIZE, 3, IMAGE_SIZE, IMAGE_SIZE, device='cuda')\n",
    "\n",
    "# dynamic batch size\n",
    "# for vino, we must convert model with -b (this only works for cpu/gpu)\n",
    "'''\n",
    "input_names = ['input_1']\n",
    "output_names = ['output_1']\n",
    "\n",
    "dynamic_axes = {input_names[0]: {0: 'batch'}}\n",
    "\n",
    "for output_name in output_names:\n",
    "    dynamic_axes[output_name] = dynamic_axes[input_names[0]]\n",
    "'''\n",
    "\n",
    "# load network\n",
    "score_net = score_model.resnet50(num_classes=1).cuda()\n",
    "score_net.load_state_dict(torch.load(SCORE_MODEL_PATH))\n",
    "\n",
    "torch.onnx.export(\n",
    "    score_net,\n",
    "    dummy_input,\n",
    "    'score_net.onnx',\n",
    "    verbose=True,\n",
    "    opset_version=OPSET_VERSION,\n",
    "    # input_names=input_names,\n",
    "    # output_names=output_names,\n",
    "    # dynamic_axes=dynamic_axes\n",
    ")"
   ]
  },
  {
   "cell_type": "markdown",
   "metadata": {},
   "source": [
    "## det net"
   ]
  },
  {
   "cell_type": "code",
   "execution_count": 3,
   "metadata": {},
   "outputs": [],
   "source": [
    "# upsample fix\n",
    "\n",
    "import torch.onnx.symbolic_opset11 as onnx_symbolic\n",
    "\n",
    "def upsample_nearest2d(g, input, output_size, *args):\n",
    "    # Currently, TRT 7.1 ONNX Parser does not support all ONNX ops\n",
    "    # needed to support dynamic upsampling ONNX forumlation\n",
    "    # Here we hardcode scale=2 as a temporary workaround\n",
    "    scales = g.op(\"Constant\", value_t=torch.tensor([1., 1., 2., 2.]))\n",
    "    empty_tensor = g.op(\"Constant\", value_t=torch.tensor([], dtype=torch.float32))\n",
    "    return g.op(\"Resize\", input, empty_tensor, scales, mode_s=\"nearest\", nearest_mode_s=\"floor\")\n",
    "\n",
    "onnx_symbolic.upsample_nearest2d = upsample_nearest2d"
   ]
  },
  {
   "cell_type": "code",
   "execution_count": null,
   "metadata": {},
   "outputs": [],
   "source": [
    "# det net\n",
    "\n",
    "IMAGE_SIZE = 512\n",
    "\n",
    "dummy_input = torch.randn(BATCH_SIZE, 3, IMAGE_SIZE, IMAGE_SIZE, device='cuda')\n",
    "\n",
    "det_net = detection_model.resnet50(num_classes=5).cuda()\n",
    "det_net.load_state_dict(torch.load(DET_MODEL_PATH))\n",
    "\n",
    "# torch.onnx.export(det_net, dummy_input, 'det_net.onnx', verbose=True)\n",
    "# for now, intel openvino only supports opset-10 resizing\n",
    "det_net.export_onnx(dummy_input, 'det_net.onnx', op_set_version=OPSET_VERSION)"
   ]
  },
  {
   "cell_type": "code",
   "execution_count": null,
   "metadata": {},
   "outputs": [],
   "source": []
  }
 ],
 "metadata": {
  "kernelspec": {
   "display_name": "Python (chromo-score)",
   "language": "python",
   "name": "chromo-score"
  },
  "language_info": {
   "codemirror_mode": {
    "name": "ipython",
    "version": 3
   },
   "file_extension": ".py",
   "mimetype": "text/x-python",
   "name": "python",
   "nbconvert_exporter": "python",
   "pygments_lexer": "ipython3",
   "version": "3.7.6"
  }
 },
 "nbformat": 4,
 "nbformat_minor": 2
}
