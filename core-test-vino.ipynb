{
 "cells": [
  {
   "cell_type": "code",
   "execution_count": 2,
   "metadata": {},
   "outputs": [],
   "source": [
    "from core import RootCore\n"
   ]
  },
  {
   "cell_type": "code",
   "execution_count": 3,
   "metadata": {},
   "outputs": [],
   "source": [
    "# init\n",
    "core = RootCore.RootCore(\n",
    "    './data/detection_state_dict.pth',\n",
    "    './data/score_state_dict.pth',\n",
    "    '', # model encryption not implemented for now\n",
    "    device_name='cpu'\n",
    ")\n"
   ]
  },
  {
   "cell_type": "code",
   "execution_count": 7,
   "metadata": {},
   "outputs": [
    {
     "name": "stdout",
     "output_type": "stream",
     "text": [
      "[[122.17975616455078, 89.21537780761719, 295.94500732421875, 275.37518310546875], [336.1812744140625, 126.92890930175781, 502.46484375, 364.1748352050781]]\n",
      "[[122.17975616455078, 89.21537780761719, 295.94500732421875, 275.37518310546875, 79.5338134765625], [336.1812744140625, 126.92890930175781, 502.46484375, 364.1748352050781, 73.38341522216797]]\n"
     ]
    }
   ],
   "source": [
    "# low level api\n",
    "bboxes = core.detect('./data/1a375421-9b33-40fa-8750-8cb3dd9b2079.jpg')\n",
    "score_bboxes = core.bbox_score('./data/1a375421-9b33-40fa-8750-8cb3dd9b2079.jpg', bboxes)\n",
    "print(score_bboxes)\n"
   ]
  },
  {
   "cell_type": "code",
   "execution_count": 8,
   "metadata": {},
   "outputs": [
    {
     "name": "stdout",
     "output_type": "stream",
     "text": [
      "[[122.17975616455078, 89.21537780761719, 295.94500732421875, 275.37518310546875], [336.1812744140625, 126.92890930175781, 502.46484375, 364.1748352050781]]\n",
      "[[122.17975616455078, 89.21537780761719, 295.94500732421875, 275.37518310546875, 79.5338134765625], [336.1812744140625, 126.92890930175781, 502.46484375, 364.1748352050781, 73.38341522216797]]\n"
     ]
    }
   ],
   "source": [
    "# high level api\n",
    "all_in_one_score_bboxes = core.score('./data/1a375421-9b33-40fa-8750-8cb3dd9b2079.jpg')\n",
    "print(all_in_one_score_bboxes)\n"
   ]
  },
  {
   "cell_type": "code",
   "execution_count": null,
   "metadata": {},
   "outputs": [],
   "source": [
    "# draw\n",
    "core.draw_score_bboxes('./data/1a375421-9b33-40fa-8750-8cb3dd9b2079.jpg', './result/', score_bboxes, draw_score=True)\n"
   ]
  },
  {
   "cell_type": "code",
   "execution_count": null,
   "metadata": {},
   "outputs": [],
   "source": [
    "# ok, some customized draw\n",
    "\n",
    "import numpy as np\n",
    "from PIL import Image\n",
    "import matplotlib.pyplot as plt\n",
    "\n",
    "for i, score_bbox in enumerate(score_bboxes):\n",
    "    result_file = core.draw_score_bboxes(\n",
    "        './data/1a375421-9b33-40fa-8750-8cb3dd9b2079.jpg',\n",
    "        './result/{}-'.format(i),\n",
    "        [score_bbox],\n",
    "        bbox_color_name='lime',\n",
    "        draw_score=False\n",
    "    )\n",
    "    \n",
    "    print('bbox {}:\\n{}\\npath: {}\\n'.format(i, score_bbox, result_file))\n",
    "    \n",
    "    img = np.array(Image.open(result_file))\n",
    "    plt.imshow(img)\n",
    "    plt.show()\n"
   ]
  },
  {
   "cell_type": "code",
   "execution_count": null,
   "metadata": {},
   "outputs": [],
   "source": []
  }
 ],
 "metadata": {
  "kernelspec": {
   "display_name": "Python (pytorch_0.4.1)",
   "language": "python",
   "name": "pytorch_0.4.1"
  },
  "language_info": {
   "codemirror_mode": {
    "name": "ipython",
    "version": 3
   },
   "file_extension": ".py",
   "mimetype": "text/x-python",
   "name": "python",
   "nbconvert_exporter": "python",
   "pygments_lexer": "ipython3",
   "version": "3.6.10"
  }
 },
 "nbformat": 4,
 "nbformat_minor": 2
}
