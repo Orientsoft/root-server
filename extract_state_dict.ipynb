{
 "cells": [
  {
   "cell_type": "markdown",
   "metadata": {},
   "source": [
    "## extract state dict from pretrained model"
   ]
  },
  {
   "cell_type": "code",
   "execution_count": 2,
   "metadata": {},
   "outputs": [
    {
     "name": "stderr",
     "output_type": "stream",
     "text": [
      "/home/voyager/anaconda3/envs/pytorch_0.4.1/lib/python3.6/site-packages/torch/serialization.py:425: SourceChangeWarning: source code of class 'retinanet.model.ResNet' has changed. you can retrieve the original source code by accessing the object's source attribute or set `torch.nn.Module.dump_patches = True` and use the patch tool to revert the changes.\n",
      "  warnings.warn(msg, SourceChangeWarning)\n",
      "/home/voyager/anaconda3/envs/pytorch_0.4.1/lib/python3.6/site-packages/torch/serialization.py:425: SourceChangeWarning: source code of class 'retinanet.anchors.Anchors' has changed. you can retrieve the original source code by accessing the object's source attribute or set `torch.nn.Module.dump_patches = True` and use the patch tool to revert the changes.\n",
      "  warnings.warn(msg, SourceChangeWarning)\n",
      "/home/voyager/anaconda3/envs/pytorch_0.4.1/lib/python3.6/site-packages/torch/serialization.py:425: SourceChangeWarning: source code of class 'retinanet.utils.BBoxTransform' has changed. you can retrieve the original source code by accessing the object's source attribute or set `torch.nn.Module.dump_patches = True` and use the patch tool to revert the changes.\n",
      "  warnings.warn(msg, SourceChangeWarning)\n",
      "/home/voyager/anaconda3/envs/pytorch_0.4.1/lib/python3.6/site-packages/torch/serialization.py:425: SourceChangeWarning: source code of class 'retinanet.losses.FocalLoss' has changed. you can retrieve the original source code by accessing the object's source attribute or set `torch.nn.Module.dump_patches = True` and use the patch tool to revert the changes.\n",
      "  warnings.warn(msg, SourceChangeWarning)\n"
     ]
    }
   ],
   "source": [
    "import torch\n",
    "import torch.nn as nn\n",
    "\n",
    "detection_model_path = './data/151_0.3333.pth'\n",
    "score_model_path = './data/080_0.4574.pth'\n",
    "\n",
    "device = torch.device('cpu')\n",
    "\n",
    "detection_net = torch.load(detection_model_path).to(device)\n",
    "score_net = torch.load(score_model_path).to(device)\n"
   ]
  },
  {
   "cell_type": "code",
   "execution_count": 4,
   "metadata": {},
   "outputs": [],
   "source": [
    "# ok, save state dict\n",
    "\n",
    "torch.save(detection_net.state_dict(), './data/detection_state_dict.pth')\n",
    "torch.save(score_net.state_dict(), './data/score_state_dict.pth')\n"
   ]
  },
  {
   "cell_type": "code",
   "execution_count": null,
   "metadata": {},
   "outputs": [],
   "source": []
  }
 ],
 "metadata": {
  "kernelspec": {
   "display_name": "Python (pytorch_0.4.1)",
   "language": "python",
   "name": "pytorch_0.4.1"
  },
  "language_info": {
   "codemirror_mode": {
    "name": "ipython",
    "version": 3
   },
   "file_extension": ".py",
   "mimetype": "text/x-python",
   "name": "python",
   "nbconvert_exporter": "python",
   "pygments_lexer": "ipython3",
   "version": "3.6.7"
  }
 },
 "nbformat": 4,
 "nbformat_minor": 2
}
