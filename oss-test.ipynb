{
 "cells": [
  {
   "cell_type": "code",
   "execution_count": 1,
   "metadata": {},
   "outputs": [
    {
     "data": {
      "text/plain": [
       "'2.7.0'"
      ]
     },
     "execution_count": 1,
     "metadata": {},
     "output_type": "execute_result"
    }
   ],
   "source": [
    "import io\n",
    "from PIL import Image\n",
    "\n",
    "import oss2\n",
    "import crcmod._crcfunext\n",
    "\n",
    "oss2.__version__"
   ]
  },
  {
   "cell_type": "code",
   "execution_count": 2,
   "metadata": {},
   "outputs": [],
   "source": [
    "access_key_id = 'LTAItqZPUxoMRECy'\n",
    "access_key_secret = 'mGCLmTHHXucTAuKoR48rQrYgxV71GN'\n",
    "bucket_name = 'root-ai-dest'\n",
    "endpoint = 'oss-cn-chengdu.aliyuncs.com'"
   ]
  },
  {
   "cell_type": "code",
   "execution_count": 3,
   "metadata": {},
   "outputs": [],
   "source": [
    "bucket = oss2.Bucket(\n",
    "    oss2.Auth(access_key_id, access_key_secret),\n",
    "    endpoint,\n",
    "    bucket_name\n",
    ")"
   ]
  },
  {
   "cell_type": "code",
   "execution_count": 7,
   "metadata": {},
   "outputs": [
    {
     "data": {
      "text/plain": [
       "<oss2.models.PutObjectResult at 0x7f0de6d90828>"
      ]
     },
     "execution_count": 7,
     "metadata": {},
     "output_type": "execute_result"
    }
   ],
   "source": [
    "img = Image.open('./data/1a375421-9b33-40fa-8750-8cb3dd9b2079.jpg')\n",
    "imgArr = io.BytesIO()\n",
    "\n",
    "img.save(imgArr, format='JPEG')\n",
    "imgArr = imgArr.getvalue()\n",
    "\n",
    "bucket.put_object('111/test.jpg', imgArr, headers={'content-length': str(len(imgArr))})\n"
   ]
  },
  {
   "cell_type": "code",
   "execution_count": 4,
   "metadata": {},
   "outputs": [],
   "source": [
    "bucket = oss2.Bucket(\n",
    "    oss2.Auth(access_key_id, access_key_secret),\n",
    "    endpoint,\n",
    "    'root-ai-src'\n",
    ")\n",
    "\n",
    "result = bucket.get_object('2019-07-16/1-1a375421-9b33-40fa-8750-8cb3dd9b2079 (1)@0940445aa79911e9842db8e8560a78b6.jpg')\n",
    "resultArr = io.BytesIO(result.read())\n",
    "\n",
    "# result_img = Image.open(resultArr)\n",
    "\n",
    "# result_img.save('./data/test.jpg', format='JPEG')\n",
    "\n"
   ]
  },
  {
   "cell_type": "code",
   "execution_count": 7,
   "metadata": {},
   "outputs": [],
   "source": [
    "from core import RootCore\n",
    "\n",
    "DETECTION_MODEL_FILE = './data/detection_state_dict.pth'\n",
    "SCORE_MODEL_FILE = './data/score_state_dict.pth'\n",
    "DEVICE_NAME = 'cpu'\n",
    "\n",
    "core = RootCore.RootCore(\n",
    "    DETECTION_MODEL_FILE,\n",
    "    SCORE_MODEL_FILE,\n",
    "    '',\n",
    "    DEVICE_NAME\n",
    ")\n",
    "\n",
    "all_in_one_score_bboxes = core.score(resultArr)"
   ]
  },
  {
   "cell_type": "code",
   "execution_count": null,
   "metadata": {},
   "outputs": [],
   "source": []
  }
 ],
 "metadata": {
  "kernelspec": {
   "display_name": "Python (pytorch_0.4.1)",
   "language": "python",
   "name": "pytorch_0.4.1"
  },
  "language_info": {
   "codemirror_mode": {
    "name": "ipython",
    "version": 3
   },
   "file_extension": ".py",
   "mimetype": "text/x-python",
   "name": "python",
   "nbconvert_exporter": "python",
   "pygments_lexer": "ipython3",
   "version": "3.6.7"
  }
 },
 "nbformat": 4,
 "nbformat_minor": 2
}
