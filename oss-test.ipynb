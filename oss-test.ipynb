{
 "cells": [
  {
   "cell_type": "code",
   "execution_count": 6,
   "metadata": {},
   "outputs": [
    {
     "data": {
      "text/plain": [
       "'2.7.0'"
      ]
     },
     "execution_count": 6,
     "metadata": {},
     "output_type": "execute_result"
    }
   ],
   "source": [
    "import io\n",
    "import numpy as np\n",
    "from PIL import Image\n",
    "\n",
    "import oss2\n",
    "import crcmod._crcfunext\n",
    "\n",
    "from config import *\n",
    "\n",
    "oss2.__version__"
   ]
  },
  {
   "cell_type": "code",
   "execution_count": 7,
   "metadata": {},
   "outputs": [],
   "source": [
    "bucket_name = 'root-ai-dest'\n",
    "endpoint = 'oss-cn-chengdu.aliyuncs.com'"
   ]
  },
  {
   "cell_type": "code",
   "execution_count": 8,
   "metadata": {},
   "outputs": [],
   "source": [
    "bucket = oss2.Bucket(\n",
    "    oss2.Auth(access_key_id, access_key_secret),\n",
    "    endpoint,\n",
    "    bucket_name\n",
    ")"
   ]
  },
  {
   "cell_type": "code",
   "execution_count": 7,
   "metadata": {},
   "outputs": [
    {
     "data": {
      "text/plain": [
       "<oss2.models.PutObjectResult at 0x7f0de6d90828>"
      ]
     },
     "execution_count": 7,
     "metadata": {},
     "output_type": "execute_result"
    }
   ],
   "source": [
    "img = Image.open('./data/1a375421-9b33-40fa-8750-8cb3dd9b2079.jpg')\n",
    "imgArr = io.BytesIO()\n",
    "\n",
    "img.save(imgArr, format='JPEG')\n",
    "imgArr = imgArr.getvalue()\n",
    "\n",
    "bucket.put_object('111/test.jpg', imgArr, headers={'content-length': str(len(imgArr))})\n"
   ]
  },
  {
   "cell_type": "code",
   "execution_count": 4,
   "metadata": {},
   "outputs": [],
   "source": [
    "bucket = oss2.Bucket(\n",
    "    oss2.Auth(access_key_id, access_key_secret),\n",
    "    endpoint,\n",
    "    'root-ai-src'\n",
    ")\n",
    "\n",
    "result = bucket.get_object('2020-04-15/3-75@53c2565c7ec711ea8a7b00163e04e958.jpg')\n",
    "resultArr = io.BytesIO(result.read())\n",
    "\n",
    "# result_img = Image.open(resultArr)\n",
    "\n",
    "# result_img.save('./data/test.jpg', format='JPEG')\n",
    "\n"
   ]
  },
  {
   "cell_type": "code",
   "execution_count": 5,
   "metadata": {},
   "outputs": [
    {
     "name": "stdout",
     "output_type": "stream",
     "text": [
      "a1\n",
      "a2\n",
      "a3\n",
      "(672, 546)\n",
      "a4\n",
      "a5\n",
      "a6\n"
     ]
    },
    {
     "name": "stderr",
     "output_type": "stream",
     "text": [
      "/home/voyager/anaconda3/envs/pytorch_0.4.1/lib/python3.6/site-packages/torch/nn/modules/upsampling.py:122: UserWarning: nn.Upsampling is deprecated. Use nn.functional.interpolate instead.\n",
      "  warnings.warn(\"nn.Upsampling is deprecated. Use nn.functional.interpolate instead.\")\n"
     ]
    }
   ],
   "source": [
    "from core import RootCore\n",
    "\n",
    "DETECTION_MODEL_FILE = './data/detection_state_dict.pth'\n",
    "SCORE_MODEL_FILE = './data/score_state_dict.pth'\n",
    "DEVICE_NAME = 'cpu'\n",
    "\n",
    "core = RootCore.RootCore(\n",
    "    DETECTION_MODEL_FILE,\n",
    "    SCORE_MODEL_FILE,\n",
    "    '',\n",
    "    DEVICE_NAME\n",
    ")\n",
    "\n",
    "all_in_one_score_bboxes = core.score(resultArr)"
   ]
  },
  {
   "cell_type": "code",
   "execution_count": 6,
   "metadata": {},
   "outputs": [
    {
     "name": "stdout",
     "output_type": "stream",
     "text": [
      "[[91.26602935791016, 210.71664428710938, 318.0581970214844, 441.78985595703125, 72.13286590576172], [364.4674377441406, 285.50128173828125, 564.3512573242188, 482.59490966796875, 84.48555755615234]]\n"
     ]
    }
   ],
   "source": [
    "print(all_in_one_score_bboxes)"
   ]
  },
  {
   "cell_type": "code",
   "execution_count": null,
   "metadata": {},
   "outputs": [],
   "source": []
  }
 ],
 "metadata": {
  "kernelspec": {
   "display_name": "Python (pytorch_0.4.1)",
   "language": "python",
   "name": "pytorch_0.4.1"
  },
  "language_info": {
   "codemirror_mode": {
    "name": "ipython",
    "version": 3
   },
   "file_extension": ".py",
   "mimetype": "text/x-python",
   "name": "python",
   "nbconvert_exporter": "python",
   "pygments_lexer": "ipython3",
   "version": "3.6.7"
  }
 },
 "nbformat": 4,
 "nbformat_minor": 2
}
