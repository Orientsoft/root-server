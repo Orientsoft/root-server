{
 "cells": [
  {
   "cell_type": "code",
   "execution_count": 21,
   "metadata": {},
   "outputs": [],
   "source": [
    "import os\n",
    "import sys\n",
    "from tqdm import tqdm\n",
    "import numpy as np\n",
    "\n",
    "from core import RootCore\n"
   ]
  },
  {
   "cell_type": "code",
   "execution_count": 22,
   "metadata": {},
   "outputs": [],
   "source": [
    "# const\n",
    "\n",
    "detect_model_path = './data/151_0.3333.pth'\n",
    "score_model_path = './data/080_0.4574.pth'\n",
    "\n",
    "input_path = './test/广元-手机拍摄'\n",
    "result_prefix = './result'\n"
   ]
  },
  {
   "cell_type": "code",
   "execution_count": 23,
   "metadata": {},
   "outputs": [],
   "source": [
    "# init\n",
    "core = RootCore.RootCore(\n",
    "    detect_model_path,\n",
    "    score_model_path,\n",
    "    '', # model encryption not implemented for now\n",
    "    device_name='cuda:1'\n",
    ")\n"
   ]
  },
  {
   "cell_type": "code",
   "execution_count": 24,
   "metadata": {},
   "outputs": [
    {
     "name": "stdout",
     "output_type": "stream",
     "text": [
      "100%|██████████| 2/2 [00:00<00:00,  9.79it/s]\n",
      "65.87498474121094\n"
     ]
    }
   ],
   "source": [
    "filenames = os.listdir(input_path)\n",
    "\n",
    "scores = []\n",
    "\n",
    "with tqdm(total=len(filenames), file=sys.stdout) as pbar:\n",
    "    for filename in filenames:\n",
    "        input_pict = os.path.join(input_path, filename)\n",
    "\n",
    "        score_bboxes = core.score(input_pict)\n",
    "\n",
    "        result_file = core.draw_score_bboxes(\n",
    "            input_pict,\n",
    "            './result/',\n",
    "            score_bboxes,\n",
    "            draw_score=True\n",
    "        )\n",
    "        \n",
    "        for bbox in score_bboxes:\n",
    "            scores.append(bbox[4])\n",
    "        \n",
    "        pbar.update(1)\n",
    "        \n",
    "print(np.mean(scores))\n"
   ]
  },
  {
   "cell_type": "code",
   "execution_count": null,
   "metadata": {},
   "outputs": [],
   "source": []
  },
  {
   "cell_type": "code",
   "execution_count": null,
   "metadata": {},
   "outputs": [],
   "source": []
  }
 ],
 "metadata": {
  "kernelspec": {
   "display_name": "Python (pytorch_0.4.1)",
   "language": "python",
   "name": "pytorch_0.4.1"
  },
  "language_info": {
   "codemirror_mode": {
    "name": "ipython",
    "version": 3
   },
   "file_extension": ".py",
   "mimetype": "text/x-python",
   "name": "python",
   "nbconvert_exporter": "python",
   "pygments_lexer": "ipython3",
   "version": "3.6.10"
  }
 },
 "nbformat": 4,
 "nbformat_minor": 2
}
